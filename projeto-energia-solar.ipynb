{
 "cells": [
  {
   "cell_type": "markdown",
   "id": "a0152170",
   "metadata": {},
   "source": [
    "================Projeto de Análise de Desempenho e Tendências do Sistema Fotovoltaico no Brasil===============\n",
    "\n",
    "Este projeto tem como objetivo analisar as tendências de crescimento e queda da energia solar no Brasil, considerando o período de 2009 a 2025. A análise busca identificar padrões de sazonalidade, variações anuais e fatores que influenciam o desempenho do sistema fotovoltaico no país. Serão utilizadas técnicas de visualização de dados e estatística para compreender o comportamento da geração de energia solar ao longo dos anos e apoiar tomadas de decisão para o setor. os dados utilizados serão obtidos através de dados da ANEEL, que fornece informações detalhadas sobre a geração de energ#ia solar no Brasil. Esse projeto visa contribuir para o entendimento do crescimento da energia solar no país e auxiliar na formulação de políticas públicas e estratégias de investimento no setor, tambem ver como sistemas fotovoltaicos esta ficando saturado no Brasil, e como isso pode afetar o mercado de energia."
   ]
  },
  {
   "cell_type": "code",
   "execution_count": 87,
   "id": "a34a025f",
   "metadata": {},
   "outputs": [],
   "source": [
    "# BiBLIOTECAS NECESARIAS\n",
    "import os\n",
    "import pandas as pd\n",
    "import numpy as np\n",
    "import matplotlib.pyplot as plt\n",
    "import seaborn as sns\n",
    "import requests"
   ]
  },
  {
   "cell_type": "markdown",
   "id": "3ecfd14a",
   "metadata": {},
   "source": [
    "# Lendo informaçoes dos dados "
   ]
  },
  {
   "cell_type": "code",
   "execution_count": 88,
   "id": "5bea1ed6",
   "metadata": {},
   "outputs": [
    {
     "name": "stdout",
     "output_type": "stream",
     "text": [
      "Base carregada com sucesso!\n",
      "  DatGeracaoConjuntoDados CodGeracaoDistribuida MdaAreaArranjo  \\\n",
      "0              2025-08-14                   NaN           5,82   \n",
      "1              2025-08-14                   NaN           2,47   \n",
      "2              2025-08-14                   NaN          14,89   \n",
      "3              2025-08-14                   NaN           4,23   \n",
      "4              2025-08-14                   NaN           4,55   \n",
      "\n",
      "  MdaPotenciaInstalada NomFabricanteModulo NomFabricanteInversor  DatConexao  \\\n",
      "0                 6,00              Não há                Não há  2024-02-01   \n",
      "1                 5,00              Não há                Não há  2024-02-01   \n",
      "2                 3,00              Não há                Não há  2024-02-01   \n",
      "3                 5,00              Não há                Não há  2024-02-01   \n",
      "4                 6,00              Não há                Não há  2024-02-01   \n",
      "\n",
      "  MdaPotenciaModulos MdaPotenciaInversores  QtdModulos NomModeloModulo  \\\n",
      "0               6,00                  6,00         852          Não há   \n",
      "1               5,00                  5,00          75          Não há   \n",
      "2               3,00                  3,00         626          Não há   \n",
      "3               5,00                  5,00         424          Não há   \n",
      "4               6,00                  6,00         495          Não há   \n",
      "\n",
      "  NomModeloInversor  \n",
      "0            Não há  \n",
      "1            Não há  \n",
      "2            Não há  \n",
      "3            Não há  \n",
      "4            Não há  \n"
     ]
    }
   ],
   "source": [
    "# Caminho completo do arquivo\n",
    "caminho_base = r\"C:\\Users\\Usuario\\Documents\\empreendimento-gd-informacoes-tecnicas-fotovoltaica.csv\"\n",
    "\n",
    "# Tentando com outro encoding\n",
    "df = pd.read_csv(\n",
    "    caminho_base,\n",
    "    sep=\";\",              # separador\n",
    "    encoding=\"latin-1\",   # troca de utf-8 para latin-1\n",
    "    low_memory=False,\n",
    "    on_bad_lines=\"skip\"   # ignora linhas problemáticas\n",
    ")\n",
    "\n",
    "print(\"Base carregada com sucesso!\")\n",
    "print(df.head())"
   ]
  },
  {
   "cell_type": "code",
   "execution_count": 89,
   "id": "86a81bbb",
   "metadata": {},
   "outputs": [
    {
     "name": "stdout",
     "output_type": "stream",
     "text": [
      "<class 'pandas.core.frame.DataFrame'>\n",
      "RangeIndex: 3772788 entries, 0 to 3772787\n",
      "Data columns (total 12 columns):\n",
      " #   Column                   Dtype \n",
      "---  ------                   ----- \n",
      " 0   DatGeracaoConjuntoDados  object\n",
      " 1   CodGeracaoDistribuida    object\n",
      " 2   MdaAreaArranjo           object\n",
      " 3   MdaPotenciaInstalada     object\n",
      " 4   NomFabricanteModulo      object\n",
      " 5   NomFabricanteInversor    object\n",
      " 6   DatConexao               object\n",
      " 7   MdaPotenciaModulos       object\n",
      " 8   MdaPotenciaInversores    object\n",
      " 9   QtdModulos               int64 \n",
      " 10  NomModeloModulo          object\n",
      " 11  NomModeloInversor        object\n",
      "dtypes: int64(1), object(11)\n",
      "memory usage: 345.4+ MB\n"
     ]
    }
   ],
   "source": [
    "df.info()"
   ]
  },
  {
   "cell_type": "code",
   "execution_count": 90,
   "id": "f3fcbcde",
   "metadata": {},
   "outputs": [
    {
     "data": {
      "application/vnd.microsoft.datawrangler.viewer.v0+json": {
       "columns": [
        {
         "name": "index",
         "rawType": "int64",
         "type": "integer"
        },
        {
         "name": "DatGeracaoConjuntoDados",
         "rawType": "object",
         "type": "string"
        },
        {
         "name": "CodGeracaoDistribuida",
         "rawType": "object",
         "type": "unknown"
        },
        {
         "name": "MdaAreaArranjo",
         "rawType": "object",
         "type": "string"
        },
        {
         "name": "MdaPotenciaInstalada",
         "rawType": "object",
         "type": "string"
        },
        {
         "name": "NomFabricanteModulo",
         "rawType": "object",
         "type": "string"
        },
        {
         "name": "NomFabricanteInversor",
         "rawType": "object",
         "type": "string"
        },
        {
         "name": "DatConexao",
         "rawType": "object",
         "type": "string"
        },
        {
         "name": "MdaPotenciaModulos",
         "rawType": "object",
         "type": "string"
        },
        {
         "name": "MdaPotenciaInversores",
         "rawType": "object",
         "type": "string"
        },
        {
         "name": "QtdModulos",
         "rawType": "int64",
         "type": "integer"
        },
        {
         "name": "NomModeloModulo",
         "rawType": "object",
         "type": "string"
        },
        {
         "name": "NomModeloInversor",
         "rawType": "object",
         "type": "string"
        }
       ],
       "ref": "acc84067-7443-42fd-8633-690e4dc3ee9d",
       "rows": [
        [
         "0",
         "2025-08-14",
         null,
         "5,82",
         "6,00",
         "Não há",
         "Não há",
         "2024-02-01",
         "6,00",
         "6,00",
         "852",
         "Não há",
         "Não há"
        ],
        [
         "1",
         "2025-08-14",
         null,
         "2,47",
         "5,00",
         "Não há",
         "Não há",
         "2024-02-01",
         "5,00",
         "5,00",
         "75",
         "Não há",
         "Não há"
        ],
        [
         "2",
         "2025-08-14",
         null,
         "14,89",
         "3,00",
         "Não há",
         "Não há",
         "2024-02-01",
         "3,00",
         "3,00",
         "626",
         "Não há",
         "Não há"
        ],
        [
         "3",
         "2025-08-14",
         null,
         "4,23",
         "5,00",
         "Não há",
         "Não há",
         "2024-02-01",
         "5,00",
         "5,00",
         "424",
         "Não há",
         "Não há"
        ],
        [
         "4",
         "2025-08-14",
         null,
         "4,55",
         "6,00",
         "Não há",
         "Não há",
         "2024-02-01",
         "6,00",
         "6,00",
         "495",
         "Não há",
         "Não há"
        ]
       ],
       "shape": {
        "columns": 12,
        "rows": 5
       }
      },
      "text/html": [
       "<div>\n",
       "<style scoped>\n",
       "    .dataframe tbody tr th:only-of-type {\n",
       "        vertical-align: middle;\n",
       "    }\n",
       "\n",
       "    .dataframe tbody tr th {\n",
       "        vertical-align: top;\n",
       "    }\n",
       "\n",
       "    .dataframe thead th {\n",
       "        text-align: right;\n",
       "    }\n",
       "</style>\n",
       "<table border=\"1\" class=\"dataframe\">\n",
       "  <thead>\n",
       "    <tr style=\"text-align: right;\">\n",
       "      <th></th>\n",
       "      <th>DatGeracaoConjuntoDados</th>\n",
       "      <th>CodGeracaoDistribuida</th>\n",
       "      <th>MdaAreaArranjo</th>\n",
       "      <th>MdaPotenciaInstalada</th>\n",
       "      <th>NomFabricanteModulo</th>\n",
       "      <th>NomFabricanteInversor</th>\n",
       "      <th>DatConexao</th>\n",
       "      <th>MdaPotenciaModulos</th>\n",
       "      <th>MdaPotenciaInversores</th>\n",
       "      <th>QtdModulos</th>\n",
       "      <th>NomModeloModulo</th>\n",
       "      <th>NomModeloInversor</th>\n",
       "    </tr>\n",
       "  </thead>\n",
       "  <tbody>\n",
       "    <tr>\n",
       "      <th>0</th>\n",
       "      <td>2025-08-14</td>\n",
       "      <td>NaN</td>\n",
       "      <td>5,82</td>\n",
       "      <td>6,00</td>\n",
       "      <td>Não há</td>\n",
       "      <td>Não há</td>\n",
       "      <td>2024-02-01</td>\n",
       "      <td>6,00</td>\n",
       "      <td>6,00</td>\n",
       "      <td>852</td>\n",
       "      <td>Não há</td>\n",
       "      <td>Não há</td>\n",
       "    </tr>\n",
       "    <tr>\n",
       "      <th>1</th>\n",
       "      <td>2025-08-14</td>\n",
       "      <td>NaN</td>\n",
       "      <td>2,47</td>\n",
       "      <td>5,00</td>\n",
       "      <td>Não há</td>\n",
       "      <td>Não há</td>\n",
       "      <td>2024-02-01</td>\n",
       "      <td>5,00</td>\n",
       "      <td>5,00</td>\n",
       "      <td>75</td>\n",
       "      <td>Não há</td>\n",
       "      <td>Não há</td>\n",
       "    </tr>\n",
       "    <tr>\n",
       "      <th>2</th>\n",
       "      <td>2025-08-14</td>\n",
       "      <td>NaN</td>\n",
       "      <td>14,89</td>\n",
       "      <td>3,00</td>\n",
       "      <td>Não há</td>\n",
       "      <td>Não há</td>\n",
       "      <td>2024-02-01</td>\n",
       "      <td>3,00</td>\n",
       "      <td>3,00</td>\n",
       "      <td>626</td>\n",
       "      <td>Não há</td>\n",
       "      <td>Não há</td>\n",
       "    </tr>\n",
       "    <tr>\n",
       "      <th>3</th>\n",
       "      <td>2025-08-14</td>\n",
       "      <td>NaN</td>\n",
       "      <td>4,23</td>\n",
       "      <td>5,00</td>\n",
       "      <td>Não há</td>\n",
       "      <td>Não há</td>\n",
       "      <td>2024-02-01</td>\n",
       "      <td>5,00</td>\n",
       "      <td>5,00</td>\n",
       "      <td>424</td>\n",
       "      <td>Não há</td>\n",
       "      <td>Não há</td>\n",
       "    </tr>\n",
       "    <tr>\n",
       "      <th>4</th>\n",
       "      <td>2025-08-14</td>\n",
       "      <td>NaN</td>\n",
       "      <td>4,55</td>\n",
       "      <td>6,00</td>\n",
       "      <td>Não há</td>\n",
       "      <td>Não há</td>\n",
       "      <td>2024-02-01</td>\n",
       "      <td>6,00</td>\n",
       "      <td>6,00</td>\n",
       "      <td>495</td>\n",
       "      <td>Não há</td>\n",
       "      <td>Não há</td>\n",
       "    </tr>\n",
       "  </tbody>\n",
       "</table>\n",
       "</div>"
      ],
      "text/plain": [
       "  DatGeracaoConjuntoDados CodGeracaoDistribuida MdaAreaArranjo  \\\n",
       "0              2025-08-14                   NaN           5,82   \n",
       "1              2025-08-14                   NaN           2,47   \n",
       "2              2025-08-14                   NaN          14,89   \n",
       "3              2025-08-14                   NaN           4,23   \n",
       "4              2025-08-14                   NaN           4,55   \n",
       "\n",
       "  MdaPotenciaInstalada NomFabricanteModulo NomFabricanteInversor  DatConexao  \\\n",
       "0                 6,00              Não há                Não há  2024-02-01   \n",
       "1                 5,00              Não há                Não há  2024-02-01   \n",
       "2                 3,00              Não há                Não há  2024-02-01   \n",
       "3                 5,00              Não há                Não há  2024-02-01   \n",
       "4                 6,00              Não há                Não há  2024-02-01   \n",
       "\n",
       "  MdaPotenciaModulos MdaPotenciaInversores  QtdModulos NomModeloModulo  \\\n",
       "0               6,00                  6,00         852          Não há   \n",
       "1               5,00                  5,00          75          Não há   \n",
       "2               3,00                  3,00         626          Não há   \n",
       "3               5,00                  5,00         424          Não há   \n",
       "4               6,00                  6,00         495          Não há   \n",
       "\n",
       "  NomModeloInversor  \n",
       "0            Não há  \n",
       "1            Não há  \n",
       "2            Não há  \n",
       "3            Não há  \n",
       "4            Não há  "
      ]
     },
     "execution_count": 90,
     "metadata": {},
     "output_type": "execute_result"
    }
   ],
   "source": [
    "df.head()"
   ]
  },
  {
   "cell_type": "code",
   "execution_count": 91,
   "id": "b9e6b16c",
   "metadata": {},
   "outputs": [
    {
     "data": {
      "application/vnd.microsoft.datawrangler.viewer.v0+json": {
       "columns": [
        {
         "name": "index",
         "rawType": "int64",
         "type": "integer"
        },
        {
         "name": "DatGeracaoConjuntoDados",
         "rawType": "object",
         "type": "string"
        },
        {
         "name": "CodGeracaoDistribuida",
         "rawType": "object",
         "type": "string"
        },
        {
         "name": "MdaAreaArranjo",
         "rawType": "object",
         "type": "string"
        },
        {
         "name": "MdaPotenciaInstalada",
         "rawType": "object",
         "type": "string"
        },
        {
         "name": "NomFabricanteModulo",
         "rawType": "object",
         "type": "string"
        },
        {
         "name": "NomFabricanteInversor",
         "rawType": "object",
         "type": "string"
        },
        {
         "name": "DatConexao",
         "rawType": "object",
         "type": "string"
        },
        {
         "name": "MdaPotenciaModulos",
         "rawType": "object",
         "type": "string"
        },
        {
         "name": "MdaPotenciaInversores",
         "rawType": "object",
         "type": "string"
        },
        {
         "name": "QtdModulos",
         "rawType": "int64",
         "type": "integer"
        },
        {
         "name": "NomModeloModulo",
         "rawType": "object",
         "type": "string"
        },
        {
         "name": "NomModeloInversor",
         "rawType": "object",
         "type": "string"
        }
       ],
       "ref": "b49d2206-95db-4181-9c41-9037297e390e",
       "rows": [
        [
         "3772783",
         "2025-08-14",
         "GD.TO.003.420.320",
         "40,00",
         "9,00",
         "7 - JA SOLAR",
         "6 - WEG",
         "2025-07-09",
         "10,08",
         "9,00",
         "16",
         "1267 - JAM72D42-630LB",
         "651 - SIW200G M090 W0"
        ],
        [
         "3772784",
         "2025-08-14",
         "GD.TO.003.420.321",
         "12,00",
         "2,42",
         "136 - TSUN",
         "71 - DEYE",
         "2025-07-04",
         "2,42",
         "3,55",
         "4",
         "1223 - TS605S8E-132GANT",
         "291 - SUN-6K-G"
        ],
        [
         "3772785",
         "2025-08-14",
         "GD.TO.003.420.322",
         "157,00",
         "34,77",
         "96 - OSDA SOLAR",
         "35 - GROWATT",
         "2025-07-08",
         "34,77",
         "50,00",
         "61",
         "1269 - ODA570-36V-MH",
         "624 - MAC 50KTL3-X MV"
        ],
        [
         "3772786",
         "2025-08-14",
         "GD.TO.003.420.323",
         "10,00",
         "2,00",
         "84 - SUNOVA",
         "71 - DEYE",
         "2025-07-07",
         "2,28",
         "2,00",
         "4",
         "1047 - SS-BG570-72MDH(T)",
         "471 - SUN2000G3-US-220"
        ],
        [
         "3772787",
         "2025-08-14",
         "GD.TO.003.420.324",
         "58,00",
         "10,00",
         "96 - OSDA SOLAR",
         "11 - SUNGROW",
         "2025-07-07",
         "12,81",
         "10,00",
         "21",
         "1249 - ODA610-33V-MHDRZ",
         "1076 - SG10RS-L_x000D_"
        ]
       ],
       "shape": {
        "columns": 12,
        "rows": 5
       }
      },
      "text/html": [
       "<div>\n",
       "<style scoped>\n",
       "    .dataframe tbody tr th:only-of-type {\n",
       "        vertical-align: middle;\n",
       "    }\n",
       "\n",
       "    .dataframe tbody tr th {\n",
       "        vertical-align: top;\n",
       "    }\n",
       "\n",
       "    .dataframe thead th {\n",
       "        text-align: right;\n",
       "    }\n",
       "</style>\n",
       "<table border=\"1\" class=\"dataframe\">\n",
       "  <thead>\n",
       "    <tr style=\"text-align: right;\">\n",
       "      <th></th>\n",
       "      <th>DatGeracaoConjuntoDados</th>\n",
       "      <th>CodGeracaoDistribuida</th>\n",
       "      <th>MdaAreaArranjo</th>\n",
       "      <th>MdaPotenciaInstalada</th>\n",
       "      <th>NomFabricanteModulo</th>\n",
       "      <th>NomFabricanteInversor</th>\n",
       "      <th>DatConexao</th>\n",
       "      <th>MdaPotenciaModulos</th>\n",
       "      <th>MdaPotenciaInversores</th>\n",
       "      <th>QtdModulos</th>\n",
       "      <th>NomModeloModulo</th>\n",
       "      <th>NomModeloInversor</th>\n",
       "    </tr>\n",
       "  </thead>\n",
       "  <tbody>\n",
       "    <tr>\n",
       "      <th>3772783</th>\n",
       "      <td>2025-08-14</td>\n",
       "      <td>GD.TO.003.420.320</td>\n",
       "      <td>40,00</td>\n",
       "      <td>9,00</td>\n",
       "      <td>7 - JA SOLAR</td>\n",
       "      <td>6 - WEG</td>\n",
       "      <td>2025-07-09</td>\n",
       "      <td>10,08</td>\n",
       "      <td>9,00</td>\n",
       "      <td>16</td>\n",
       "      <td>1267 - JAM72D42-630LB</td>\n",
       "      <td>651 - SIW200G M090 W0</td>\n",
       "    </tr>\n",
       "    <tr>\n",
       "      <th>3772784</th>\n",
       "      <td>2025-08-14</td>\n",
       "      <td>GD.TO.003.420.321</td>\n",
       "      <td>12,00</td>\n",
       "      <td>2,42</td>\n",
       "      <td>136 - TSUN</td>\n",
       "      <td>71 - DEYE</td>\n",
       "      <td>2025-07-04</td>\n",
       "      <td>2,42</td>\n",
       "      <td>3,55</td>\n",
       "      <td>4</td>\n",
       "      <td>1223 - TS605S8E-132GANT</td>\n",
       "      <td>291 - SUN-6K-G</td>\n",
       "    </tr>\n",
       "    <tr>\n",
       "      <th>3772785</th>\n",
       "      <td>2025-08-14</td>\n",
       "      <td>GD.TO.003.420.322</td>\n",
       "      <td>157,00</td>\n",
       "      <td>34,77</td>\n",
       "      <td>96 - OSDA SOLAR</td>\n",
       "      <td>35 - GROWATT</td>\n",
       "      <td>2025-07-08</td>\n",
       "      <td>34,77</td>\n",
       "      <td>50,00</td>\n",
       "      <td>61</td>\n",
       "      <td>1269 - ODA570-36V-MH</td>\n",
       "      <td>624 - MAC 50KTL3-X MV</td>\n",
       "    </tr>\n",
       "    <tr>\n",
       "      <th>3772786</th>\n",
       "      <td>2025-08-14</td>\n",
       "      <td>GD.TO.003.420.323</td>\n",
       "      <td>10,00</td>\n",
       "      <td>2,00</td>\n",
       "      <td>84 - SUNOVA</td>\n",
       "      <td>71 - DEYE</td>\n",
       "      <td>2025-07-07</td>\n",
       "      <td>2,28</td>\n",
       "      <td>2,00</td>\n",
       "      <td>4</td>\n",
       "      <td>1047 - SS-BG570-72MDH(T)</td>\n",
       "      <td>471 - SUN2000G3-US-220</td>\n",
       "    </tr>\n",
       "    <tr>\n",
       "      <th>3772787</th>\n",
       "      <td>2025-08-14</td>\n",
       "      <td>GD.TO.003.420.324</td>\n",
       "      <td>58,00</td>\n",
       "      <td>10,00</td>\n",
       "      <td>96 - OSDA SOLAR</td>\n",
       "      <td>11 - SUNGROW</td>\n",
       "      <td>2025-07-07</td>\n",
       "      <td>12,81</td>\n",
       "      <td>10,00</td>\n",
       "      <td>21</td>\n",
       "      <td>1249 - ODA610-33V-MHDRZ</td>\n",
       "      <td>1076 - SG10RS-L_x000D_</td>\n",
       "    </tr>\n",
       "  </tbody>\n",
       "</table>\n",
       "</div>"
      ],
      "text/plain": [
       "        DatGeracaoConjuntoDados CodGeracaoDistribuida MdaAreaArranjo  \\\n",
       "3772783              2025-08-14     GD.TO.003.420.320          40,00   \n",
       "3772784              2025-08-14     GD.TO.003.420.321          12,00   \n",
       "3772785              2025-08-14     GD.TO.003.420.322         157,00   \n",
       "3772786              2025-08-14     GD.TO.003.420.323          10,00   \n",
       "3772787              2025-08-14     GD.TO.003.420.324          58,00   \n",
       "\n",
       "        MdaPotenciaInstalada NomFabricanteModulo NomFabricanteInversor  \\\n",
       "3772783                 9,00        7 - JA SOLAR               6 - WEG   \n",
       "3772784                 2,42          136 - TSUN             71 - DEYE   \n",
       "3772785                34,77     96 - OSDA SOLAR          35 - GROWATT   \n",
       "3772786                 2,00         84 - SUNOVA             71 - DEYE   \n",
       "3772787                10,00     96 - OSDA SOLAR          11 - SUNGROW   \n",
       "\n",
       "         DatConexao MdaPotenciaModulos MdaPotenciaInversores  QtdModulos  \\\n",
       "3772783  2025-07-09              10,08                  9,00          16   \n",
       "3772784  2025-07-04               2,42                  3,55           4   \n",
       "3772785  2025-07-08              34,77                 50,00          61   \n",
       "3772786  2025-07-07               2,28                  2,00           4   \n",
       "3772787  2025-07-07              12,81                 10,00          21   \n",
       "\n",
       "                  NomModeloModulo       NomModeloInversor  \n",
       "3772783     1267 - JAM72D42-630LB   651 - SIW200G M090 W0  \n",
       "3772784   1223 - TS605S8E-132GANT          291 - SUN-6K-G  \n",
       "3772785      1269 - ODA570-36V-MH   624 - MAC 50KTL3-X MV  \n",
       "3772786  1047 - SS-BG570-72MDH(T)  471 - SUN2000G3-US-220  \n",
       "3772787   1249 - ODA610-33V-MHDRZ  1076 - SG10RS-L_x000D_  "
      ]
     },
     "execution_count": 91,
     "metadata": {},
     "output_type": "execute_result"
    }
   ],
   "source": [
    "df.tail()"
   ]
  },
  {
   "cell_type": "markdown",
   "id": "7c209b06",
   "metadata": {},
   "source": [
    "# Tratamento dos dados"
   ]
  },
  {
   "cell_type": "code",
   "execution_count": 92,
   "id": "760210d5",
   "metadata": {},
   "outputs": [],
   "source": [
    "# Criar uma cópia para não modificar os dados originais\n",
    "df_tratado = df.copy()"
   ]
  },
  {
   "cell_type": "code",
   "execution_count": 93,
   "id": "18892049",
   "metadata": {},
   "outputs": [],
   "source": [
    "# 1. Remover colunas desnecessárias\n",
    "colunas_para_remover = [\n",
    "        \"DatGeracaoConjuntoDados\", \n",
    "        \"MdaAreaArranjo\", \n",
    "        \"NomModeloModulo\",\n",
    "        \"NomModeloInversor\"\n",
    "    ]\n",
    "df_tratado = df_tratado.drop(colunas_para_remover, axis=1)"
   ]
  },
  {
   "cell_type": "code",
   "execution_count": 94,
   "id": "942aace3",
   "metadata": {},
   "outputs": [],
   "source": [
    "# 2. Converter e tratar datas\n",
    "df_tratado['DatConexao'] = pd.to_datetime(df_tratado['DatConexao'], errors='coerce')\n",
    "df_tratado = df_tratado[df_tratado['DatConexao'].notna()]"
   ]
  },
  {
   "cell_type": "code",
   "execution_count": 95,
   "id": "b44f799a",
   "metadata": {},
   "outputs": [],
   "source": [
    " # 3. Remover duplicatas\n",
    "df_tratado = df_tratado.drop_duplicates()"
   ]
  },
  {
   "cell_type": "code",
   "execution_count": 96,
   "id": "71ad5805",
   "metadata": {},
   "outputs": [],
   "source": [
    "# 4. Tratar valores ausentes\n",
    "df_tratado = df_tratado.dropna()"
   ]
  },
  {
   "cell_type": "code",
   "execution_count": 97,
   "id": "502f6263",
   "metadata": {},
   "outputs": [],
   "source": [
    "# 5. Criar colunas úteis para análise temporal\n",
    "df_tratado['Ano'] = df_tratado['DatConexao'].dt.year\n",
    "df_tratado['Mes'] = df_tratado['DatConexao'].dt.month"
   ]
  },
  {
   "cell_type": "code",
   "execution_count": 98,
   "id": "7b62b629",
   "metadata": {},
   "outputs": [],
   "source": [
    "# 6. Converter colunas numéricas\n",
    "if 'PotenciaModulo' in df_tratado.columns:\n",
    "    df_tratado['PotenciaModulo'] = (df_tratado['PotenciaModulo']\n",
    "                                   .astype(str)\n",
    "                                   .str.replace(',', '.')\n",
    "                                   .str.strip())\n",
    "    \n",
    "    # Conversão para numérico\n",
    "    df_tratado['PotenciaModulo'] = pd.to_numeric(df_tratado['PotenciaModulo'], \n",
    "                                                errors='coerce')"
   ]
  },
  {
   "cell_type": "code",
   "execution_count": 99,
   "id": "bce94e0d",
   "metadata": {},
   "outputs": [
    {
     "name": "stdout",
     "output_type": "stream",
     "text": [
      "Dimensões do conjunto de dados tratado: (3772237, 10)\n",
      "\n",
      "Valores ausentes:\n",
      " CodGeracaoDistribuida    0\n",
      "MdaPotenciaInstalada     0\n",
      "NomFabricanteModulo      0\n",
      "NomFabricanteInversor    0\n",
      "DatConexao               0\n",
      "MdaPotenciaModulos       0\n",
      "MdaPotenciaInversores    0\n",
      "QtdModulos               0\n",
      "Ano                      0\n",
      "Mes                      0\n",
      "dtype: int64\n",
      "\n",
      "Tipos de dados:\n",
      " CodGeracaoDistribuida            object\n",
      "MdaPotenciaInstalada             object\n",
      "NomFabricanteModulo              object\n",
      "NomFabricanteInversor            object\n",
      "DatConexao               datetime64[ns]\n",
      "MdaPotenciaModulos               object\n",
      "MdaPotenciaInversores            object\n",
      "QtdModulos                        int64\n",
      "Ano                               int32\n",
      "Mes                               int32\n",
      "dtype: object\n"
     ]
    },
    {
     "data": {
      "application/vnd.microsoft.datawrangler.viewer.v0+json": {
       "columns": [
        {
         "name": "index",
         "rawType": "int64",
         "type": "integer"
        },
        {
         "name": "CodGeracaoDistribuida",
         "rawType": "object",
         "type": "string"
        },
        {
         "name": "MdaPotenciaInstalada",
         "rawType": "object",
         "type": "string"
        },
        {
         "name": "NomFabricanteModulo",
         "rawType": "object",
         "type": "string"
        },
        {
         "name": "NomFabricanteInversor",
         "rawType": "object",
         "type": "string"
        },
        {
         "name": "DatConexao",
         "rawType": "datetime64[ns]",
         "type": "datetime"
        },
        {
         "name": "MdaPotenciaModulos",
         "rawType": "object",
         "type": "string"
        },
        {
         "name": "MdaPotenciaInversores",
         "rawType": "object",
         "type": "string"
        },
        {
         "name": "QtdModulos",
         "rawType": "int64",
         "type": "integer"
        },
        {
         "name": "Ano",
         "rawType": "int32",
         "type": "integer"
        },
        {
         "name": "Mes",
         "rawType": "int32",
         "type": "integer"
        }
       ],
       "ref": "c44cb506-0699-47ec-852e-9202da660ed3",
       "rows": [
        [
         "39",
         "GD.AC.000.000.590",
         "32,50",
         "Canadian Solar",
         "Fronius",
         "2016-08-31 00:00:00",
         "36,80",
         "32,50",
         "112",
         "2016",
         "8"
        ],
        [
         "40",
         "GD.AC.000.001.540",
         "2,00",
         "Canadian Solar",
         "Santerno",
         "2016-10-31 00:00:00",
         "2,00",
         "2,00",
         "8",
         "2016",
         "10"
        ],
        [
         "41",
         "GD.AC.000.001.552",
         "2,00",
         "AV PROJECT",
         "Fronius",
         "2016-08-25 00:00:00",
         "2,00",
         "2,00",
         "8",
         "2016",
         "8"
        ],
        [
         "42",
         "GD.AC.000.009.608",
         "5,00",
         "Canadian Solar",
         "Fronius",
         "2017-03-09 00:00:00",
         "5,00",
         "5,00",
         "20",
         "2017",
         "3"
        ],
        [
         "43",
         "GD.AC.000.017.465",
         "5,00",
         "CANADIAN SOLAR",
         "FRONIUS",
         "2017-07-29 00:00:00",
         "5,00",
         "5,00",
         "16",
         "2017",
         "7"
        ]
       ],
       "shape": {
        "columns": 10,
        "rows": 5
       }
      },
      "text/html": [
       "<div>\n",
       "<style scoped>\n",
       "    .dataframe tbody tr th:only-of-type {\n",
       "        vertical-align: middle;\n",
       "    }\n",
       "\n",
       "    .dataframe tbody tr th {\n",
       "        vertical-align: top;\n",
       "    }\n",
       "\n",
       "    .dataframe thead th {\n",
       "        text-align: right;\n",
       "    }\n",
       "</style>\n",
       "<table border=\"1\" class=\"dataframe\">\n",
       "  <thead>\n",
       "    <tr style=\"text-align: right;\">\n",
       "      <th></th>\n",
       "      <th>CodGeracaoDistribuida</th>\n",
       "      <th>MdaPotenciaInstalada</th>\n",
       "      <th>NomFabricanteModulo</th>\n",
       "      <th>NomFabricanteInversor</th>\n",
       "      <th>DatConexao</th>\n",
       "      <th>MdaPotenciaModulos</th>\n",
       "      <th>MdaPotenciaInversores</th>\n",
       "      <th>QtdModulos</th>\n",
       "      <th>Ano</th>\n",
       "      <th>Mes</th>\n",
       "    </tr>\n",
       "  </thead>\n",
       "  <tbody>\n",
       "    <tr>\n",
       "      <th>39</th>\n",
       "      <td>GD.AC.000.000.590</td>\n",
       "      <td>32,50</td>\n",
       "      <td>Canadian Solar</td>\n",
       "      <td>Fronius</td>\n",
       "      <td>2016-08-31</td>\n",
       "      <td>36,80</td>\n",
       "      <td>32,50</td>\n",
       "      <td>112</td>\n",
       "      <td>2016</td>\n",
       "      <td>8</td>\n",
       "    </tr>\n",
       "    <tr>\n",
       "      <th>40</th>\n",
       "      <td>GD.AC.000.001.540</td>\n",
       "      <td>2,00</td>\n",
       "      <td>Canadian Solar</td>\n",
       "      <td>Santerno</td>\n",
       "      <td>2016-10-31</td>\n",
       "      <td>2,00</td>\n",
       "      <td>2,00</td>\n",
       "      <td>8</td>\n",
       "      <td>2016</td>\n",
       "      <td>10</td>\n",
       "    </tr>\n",
       "    <tr>\n",
       "      <th>41</th>\n",
       "      <td>GD.AC.000.001.552</td>\n",
       "      <td>2,00</td>\n",
       "      <td>AV PROJECT</td>\n",
       "      <td>Fronius</td>\n",
       "      <td>2016-08-25</td>\n",
       "      <td>2,00</td>\n",
       "      <td>2,00</td>\n",
       "      <td>8</td>\n",
       "      <td>2016</td>\n",
       "      <td>8</td>\n",
       "    </tr>\n",
       "    <tr>\n",
       "      <th>42</th>\n",
       "      <td>GD.AC.000.009.608</td>\n",
       "      <td>5,00</td>\n",
       "      <td>Canadian Solar</td>\n",
       "      <td>Fronius</td>\n",
       "      <td>2017-03-09</td>\n",
       "      <td>5,00</td>\n",
       "      <td>5,00</td>\n",
       "      <td>20</td>\n",
       "      <td>2017</td>\n",
       "      <td>3</td>\n",
       "    </tr>\n",
       "    <tr>\n",
       "      <th>43</th>\n",
       "      <td>GD.AC.000.017.465</td>\n",
       "      <td>5,00</td>\n",
       "      <td>CANADIAN SOLAR</td>\n",
       "      <td>FRONIUS</td>\n",
       "      <td>2017-07-29</td>\n",
       "      <td>5,00</td>\n",
       "      <td>5,00</td>\n",
       "      <td>16</td>\n",
       "      <td>2017</td>\n",
       "      <td>7</td>\n",
       "    </tr>\n",
       "  </tbody>\n",
       "</table>\n",
       "</div>"
      ],
      "text/plain": [
       "   CodGeracaoDistribuida MdaPotenciaInstalada NomFabricanteModulo  \\\n",
       "39     GD.AC.000.000.590                32,50      Canadian Solar   \n",
       "40     GD.AC.000.001.540                 2,00      Canadian Solar   \n",
       "41     GD.AC.000.001.552                 2,00          AV PROJECT   \n",
       "42     GD.AC.000.009.608                 5,00      Canadian Solar   \n",
       "43     GD.AC.000.017.465                 5,00      CANADIAN SOLAR   \n",
       "\n",
       "   NomFabricanteInversor DatConexao MdaPotenciaModulos MdaPotenciaInversores  \\\n",
       "39               Fronius 2016-08-31              36,80                 32,50   \n",
       "40              Santerno 2016-10-31               2,00                  2,00   \n",
       "41               Fronius 2016-08-25               2,00                  2,00   \n",
       "42               Fronius 2017-03-09               5,00                  5,00   \n",
       "43               FRONIUS 2017-07-29               5,00                  5,00   \n",
       "\n",
       "    QtdModulos   Ano  Mes  \n",
       "39         112  2016    8  \n",
       "40           8  2016   10  \n",
       "41           8  2016    8  \n",
       "42          20  2017    3  \n",
       "43          16  2017    7  "
      ]
     },
     "execution_count": 99,
     "metadata": {},
     "output_type": "execute_result"
    }
   ],
   "source": [
    "# Validação dos dados tratados\n",
    "print(\"Dimensões do conjunto de dados tratado:\", df_tratado.shape)\n",
    "print(\"\\nValores ausentes:\\n\", df_tratado.isnull().sum())\n",
    "print(\"\\nTipos de dados:\\n\", df_tratado.dtypes)\n",
    "df_tratado.head()"
   ]
  },
  {
   "cell_type": "code",
   "execution_count": 100,
   "id": "90ffc911",
   "metadata": {},
   "outputs": [],
   "source": [
    " # Padroniza os valores das colunas\n",
    "\n",
    "def padronizar_valores(df_tratado, colunas_valores):\n",
    "    \n",
    "    for coluna in colunas_valores:\n",
    "        if coluna in df_tratado.columns:\n",
    "            df_tratado[coluna] = (df_tratado[coluna]\n",
    "                                  .astype(str)\n",
    "                                  .str.replace(',', '.')\n",
    "                                  .str.strip())\n",
    "            \n",
    "            # Conversão para numérico\n",
    "            df_tratado[coluna] = pd.to_numeric(df_tratado[coluna], \n",
    "                                               errors='coerce')\n",
    "    return df_tratado"
   ]
  },
  {
   "cell_type": "code",
   "execution_count": 101,
   "id": "cd0a3b07",
   "metadata": {},
   "outputs": [],
   "source": [
    "# Lista das colunas de potência para tratar\n",
    "colunas_valores = [\n",
    "    'MdaPotenciaInstalada',\n",
    "    'MdaPotenciaModulos',\n",
    "    'MdaPotenciaInversor'\n",
    "]"
   ]
  },
  {
   "cell_type": "code",
   "execution_count": 102,
   "id": "5cf7e55b",
   "metadata": {},
   "outputs": [],
   "source": [
    "# Aplicar o tratamento\n",
    "df_tratado= padronizar_valores(df_tratado, colunas_valores)"
   ]
  },
  {
   "cell_type": "code",
   "execution_count": 103,
   "id": "a22d3fb1",
   "metadata": {},
   "outputs": [
    {
     "name": "stdout",
     "output_type": "stream",
     "text": [
      "\n",
      "Estatísticas para MdaPotenciaInstalada:\n",
      "count    3.772237e+06\n",
      "mean     1.115472e+01\n",
      "std      5.505958e+01\n",
      "min      0.000000e+00\n",
      "25%      4.000000e+00\n",
      "50%      5.500000e+00\n",
      "75%      8.400000e+00\n",
      "max      5.000000e+03\n",
      "Name: MdaPotenciaInstalada, dtype: float64\n",
      "\n",
      "Estatísticas para MdaPotenciaModulos:\n",
      "count    3.772237e+06\n",
      "mean     2.376504e+01\n",
      "std      2.326320e+02\n",
      "min      0.000000e+00\n",
      "25%      4.400000e+00\n",
      "50%      6.570000e+00\n",
      "75%      1.054000e+01\n",
      "max      9.996000e+03\n",
      "Name: MdaPotenciaModulos, dtype: float64\n"
     ]
    }
   ],
   "source": [
    "# Verificar resultados\n",
    "for coluna in colunas_valores:\n",
    "    if coluna in df_tratado.columns:\n",
    "        print(f\"\\nEstatísticas para {coluna}:\")\n",
    "        print(df_tratado[coluna].describe())"
   ]
  },
  {
   "cell_type": "code",
   "execution_count": 104,
   "id": "5935ab83",
   "metadata": {},
   "outputs": [
    {
     "data": {
      "application/vnd.microsoft.datawrangler.viewer.v0+json": {
       "columns": [
        {
         "name": "index",
         "rawType": "int64",
         "type": "integer"
        },
        {
         "name": "CodGeracaoDistribuida",
         "rawType": "object",
         "type": "string"
        },
        {
         "name": "MdaPotenciaInstalada",
         "rawType": "float64",
         "type": "float"
        },
        {
         "name": "NomFabricanteModulo",
         "rawType": "object",
         "type": "string"
        },
        {
         "name": "NomFabricanteInversor",
         "rawType": "object",
         "type": "string"
        },
        {
         "name": "DatConexao",
         "rawType": "datetime64[ns]",
         "type": "datetime"
        },
        {
         "name": "MdaPotenciaModulos",
         "rawType": "float64",
         "type": "float"
        },
        {
         "name": "MdaPotenciaInversores",
         "rawType": "object",
         "type": "string"
        },
        {
         "name": "QtdModulos",
         "rawType": "int64",
         "type": "integer"
        },
        {
         "name": "Ano",
         "rawType": "int32",
         "type": "integer"
        },
        {
         "name": "Mes",
         "rawType": "int32",
         "type": "integer"
        }
       ],
       "ref": "7eb5150d-bdbc-4143-936d-bea26d3d9d95",
       "rows": [
        [
         "3772783",
         "GD.TO.003.420.320",
         "9.0",
         "7 - JA SOLAR",
         "6 - WEG",
         "2025-07-09 00:00:00",
         "10.08",
         "9,00",
         "16",
         "2025",
         "7"
        ],
        [
         "3772784",
         "GD.TO.003.420.321",
         "2.42",
         "136 - TSUN",
         "71 - DEYE",
         "2025-07-04 00:00:00",
         "2.42",
         "3,55",
         "4",
         "2025",
         "7"
        ],
        [
         "3772785",
         "GD.TO.003.420.322",
         "34.77",
         "96 - OSDA SOLAR",
         "35 - GROWATT",
         "2025-07-08 00:00:00",
         "34.77",
         "50,00",
         "61",
         "2025",
         "7"
        ],
        [
         "3772786",
         "GD.TO.003.420.323",
         "2.0",
         "84 - SUNOVA",
         "71 - DEYE",
         "2025-07-07 00:00:00",
         "2.28",
         "2,00",
         "4",
         "2025",
         "7"
        ],
        [
         "3772787",
         "GD.TO.003.420.324",
         "10.0",
         "96 - OSDA SOLAR",
         "11 - SUNGROW",
         "2025-07-07 00:00:00",
         "12.81",
         "10,00",
         "21",
         "2025",
         "7"
        ]
       ],
       "shape": {
        "columns": 10,
        "rows": 5
       }
      },
      "text/html": [
       "<div>\n",
       "<style scoped>\n",
       "    .dataframe tbody tr th:only-of-type {\n",
       "        vertical-align: middle;\n",
       "    }\n",
       "\n",
       "    .dataframe tbody tr th {\n",
       "        vertical-align: top;\n",
       "    }\n",
       "\n",
       "    .dataframe thead th {\n",
       "        text-align: right;\n",
       "    }\n",
       "</style>\n",
       "<table border=\"1\" class=\"dataframe\">\n",
       "  <thead>\n",
       "    <tr style=\"text-align: right;\">\n",
       "      <th></th>\n",
       "      <th>CodGeracaoDistribuida</th>\n",
       "      <th>MdaPotenciaInstalada</th>\n",
       "      <th>NomFabricanteModulo</th>\n",
       "      <th>NomFabricanteInversor</th>\n",
       "      <th>DatConexao</th>\n",
       "      <th>MdaPotenciaModulos</th>\n",
       "      <th>MdaPotenciaInversores</th>\n",
       "      <th>QtdModulos</th>\n",
       "      <th>Ano</th>\n",
       "      <th>Mes</th>\n",
       "    </tr>\n",
       "  </thead>\n",
       "  <tbody>\n",
       "    <tr>\n",
       "      <th>3772783</th>\n",
       "      <td>GD.TO.003.420.320</td>\n",
       "      <td>9.00</td>\n",
       "      <td>7 - JA SOLAR</td>\n",
       "      <td>6 - WEG</td>\n",
       "      <td>2025-07-09</td>\n",
       "      <td>10.08</td>\n",
       "      <td>9,00</td>\n",
       "      <td>16</td>\n",
       "      <td>2025</td>\n",
       "      <td>7</td>\n",
       "    </tr>\n",
       "    <tr>\n",
       "      <th>3772784</th>\n",
       "      <td>GD.TO.003.420.321</td>\n",
       "      <td>2.42</td>\n",
       "      <td>136 - TSUN</td>\n",
       "      <td>71 - DEYE</td>\n",
       "      <td>2025-07-04</td>\n",
       "      <td>2.42</td>\n",
       "      <td>3,55</td>\n",
       "      <td>4</td>\n",
       "      <td>2025</td>\n",
       "      <td>7</td>\n",
       "    </tr>\n",
       "    <tr>\n",
       "      <th>3772785</th>\n",
       "      <td>GD.TO.003.420.322</td>\n",
       "      <td>34.77</td>\n",
       "      <td>96 - OSDA SOLAR</td>\n",
       "      <td>35 - GROWATT</td>\n",
       "      <td>2025-07-08</td>\n",
       "      <td>34.77</td>\n",
       "      <td>50,00</td>\n",
       "      <td>61</td>\n",
       "      <td>2025</td>\n",
       "      <td>7</td>\n",
       "    </tr>\n",
       "    <tr>\n",
       "      <th>3772786</th>\n",
       "      <td>GD.TO.003.420.323</td>\n",
       "      <td>2.00</td>\n",
       "      <td>84 - SUNOVA</td>\n",
       "      <td>71 - DEYE</td>\n",
       "      <td>2025-07-07</td>\n",
       "      <td>2.28</td>\n",
       "      <td>2,00</td>\n",
       "      <td>4</td>\n",
       "      <td>2025</td>\n",
       "      <td>7</td>\n",
       "    </tr>\n",
       "    <tr>\n",
       "      <th>3772787</th>\n",
       "      <td>GD.TO.003.420.324</td>\n",
       "      <td>10.00</td>\n",
       "      <td>96 - OSDA SOLAR</td>\n",
       "      <td>11 - SUNGROW</td>\n",
       "      <td>2025-07-07</td>\n",
       "      <td>12.81</td>\n",
       "      <td>10,00</td>\n",
       "      <td>21</td>\n",
       "      <td>2025</td>\n",
       "      <td>7</td>\n",
       "    </tr>\n",
       "  </tbody>\n",
       "</table>\n",
       "</div>"
      ],
      "text/plain": [
       "        CodGeracaoDistribuida  MdaPotenciaInstalada NomFabricanteModulo  \\\n",
       "3772783     GD.TO.003.420.320                  9.00        7 - JA SOLAR   \n",
       "3772784     GD.TO.003.420.321                  2.42          136 - TSUN   \n",
       "3772785     GD.TO.003.420.322                 34.77     96 - OSDA SOLAR   \n",
       "3772786     GD.TO.003.420.323                  2.00         84 - SUNOVA   \n",
       "3772787     GD.TO.003.420.324                 10.00     96 - OSDA SOLAR   \n",
       "\n",
       "        NomFabricanteInversor DatConexao  MdaPotenciaModulos  \\\n",
       "3772783               6 - WEG 2025-07-09               10.08   \n",
       "3772784             71 - DEYE 2025-07-04                2.42   \n",
       "3772785          35 - GROWATT 2025-07-08               34.77   \n",
       "3772786             71 - DEYE 2025-07-07                2.28   \n",
       "3772787          11 - SUNGROW 2025-07-07               12.81   \n",
       "\n",
       "        MdaPotenciaInversores  QtdModulos   Ano  Mes  \n",
       "3772783                  9,00          16  2025    7  \n",
       "3772784                  3,55           4  2025    7  \n",
       "3772785                 50,00          61  2025    7  \n",
       "3772786                  2,00           4  2025    7  \n",
       "3772787                 10,00          21  2025    7  "
      ]
     },
     "execution_count": 104,
     "metadata": {},
     "output_type": "execute_result"
    }
   ],
   "source": [
    "df_tratado.tail()"
   ]
  }
 ],
 "metadata": {
  "kernelspec": {
   "display_name": "Anbiente-teste",
   "language": "python",
   "name": "python3"
  },
  "language_info": {
   "codemirror_mode": {
    "name": "ipython",
    "version": 3
   },
   "file_extension": ".py",
   "mimetype": "text/x-python",
   "name": "python",
   "nbconvert_exporter": "python",
   "pygments_lexer": "ipython3",
   "version": "3.11.9"
  }
 },
 "nbformat": 4,
 "nbformat_minor": 5
}
